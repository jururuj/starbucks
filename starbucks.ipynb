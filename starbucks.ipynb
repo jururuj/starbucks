{
 "cells": [
  {
   "cell_type": "markdown",
   "metadata": {},
   "source": [
    "```\n",
    "시나리오\n",
    "\n",
    "프로그램 개요\n",
    "사용자가 음료를 선택하고 주문할 수 있는 프로그램 구현.\n",
    "\n",
    "프로그램의 기능은 다음과 같음.\n",
    "기능1. 음료 추가\n",
    "기능2. 음료 삭제\n",
    "기능3. 선택 음료 확인\n",
    "기능4. 선택 음료 주문\n",
    "\n",
    "기본 가정\n",
    "가정 1: 음료는 최대 10잔 까지 주문\n",
    "가정 2: 1회 주문 시 1개만 주문 가능\n",
    "가정 3: 사용자는 메뉴를 정수로만 입력\n",
    "\n",
    "\n",
    "프로그램 실행 모습\n",
    "1) 음료 추가\n",
    "음료 추가 이후에도 사용자는 계속 주문 프로그램을 사용할 수 있어야 함\n",
    "========== What Do You Want ==========\n",
    "1. 음료추가\n",
    "2. 음료 삭제\n",
    "3. 선택 음료 확인\n",
    "4. 선택 음료 주문\n",
    "5. 프로그램 종료\n",
    "\n",
    "선택: 1 Enter\n",
    "\n",
    "========== Add Menu ==========\n",
    "1.\n",
    "2.\n",
    "3.\n",
    "4.\n",
    "\n",
    "10. 동작 취소\n",
    "선택: 1 Enter\n",
    "~~ 추가\n",
    "\n",
    "========== What Do You Want ==========\n",
    "1. 음료추가\n",
    "2. 음료 삭제\n",
    "3. 선택 음료 확인\n",
    "4. 선택 음료 주문\n",
    "5. 프로그램 종료\n",
    "\n",
    "\n",
    "2) 선택 음료 확인\n",
    "3. 선택 음료 확인 메뉴를 선택하면 사용자가 추가한 음료를 모두 확인 할 수 있음\n",
    "다음 예시는 주문을 세 번 진행한 상태\n",
    "\n",
    "========== What Do You Want ==========\n",
    "1. 음료추가\n",
    "2. 음료 삭제\n",
    "3. 선택 음료 확인\n",
    "4. 선택 음료 주문\n",
    "5. 프로그램 종료\n",
    "\n",
    "선택: 3 Enter\n",
    "주문 품목 총액 ~~입니다.\n",
    "⇒ ~, ~, ~\n",
    "\n",
    "\n",
    "3) 음료 삭제\n",
    "선택 음료 확인 상태에서 음료 삭제를 선택해 잘못 추가한 음료를 삭제\n",
    "\n",
    "========== What Do You Want ==========\n",
    "1. 음료추가\n",
    "2. 음료 삭제\n",
    "3. 선택 음료 확인\n",
    "4. 선택 음료 주문\n",
    "5. 프로그램 종료\n",
    "\n",
    "========== Remove Menu ==========\n",
    "~\n",
    "~\n",
    "\n",
    "선택: Enter\n",
    "~ 주문이 취소되었습니다.\n",
    "\n",
    "잘못된 음료 삭제 후 다시 선택 음료 확인 메뉴를 선택하면 한 잔이 삭제되어야 함\n",
    "\n",
    "\n",
    "4) 음료 주문\n",
    "선택 음료 주문을 선택하면 사용자에게 총금액을 확인시켜 준 후 확인하는 과정 진행\n",
    "========== What Do You Want ==========\n",
    "1. 음료추가\n",
    "2. 음료 삭제\n",
    "3. 선택 음료 확인\n",
    "4. 선택 음료 주문\n",
    "5. 프로그램 종료\n",
    "\n",
    "선택: 4 Enter\n",
    "\n",
    "주문 품목 총액 ~~입니다. 품목은 다음과 같습니다.\n",
    "⇒ ~, ~, ~\n",
    "주문하시겠습니까?\n",
    "1: yes\n",
    "2: no\n",
    "\n",
    "yes를 실행하면 프로그램 종료\n",
    "\n",
    "주문 품목 총액 ~~입니다. 품목은 다음과 같습니다.\n",
    "⇒ ~, ~, ~\n",
    "주문하시겠습니까?\n",
    "1: yes\n",
    "2: no\n",
    "주문이 완료되었습니다.\n",
    "이용해주셔서 감사합니다.\n",
    "```"
   ]
  },
  {
   "cell_type": "markdown",
   "metadata": {
    "vscode": {
     "languageId": "plaintext"
    }
   },
   "source": [
    "```\n",
    "아메리카노: 4500\n",
    "카페라떼: 5000\n",
    "콜드브루: 4900\n",
    "에스프레소: 4000\n",
    "아이스티: 5900\n",
    "말차라떼: 6100\n",
    "```"
   ]
  },
  {
   "cell_type": "code",
   "execution_count": null,
   "metadata": {
    "vscode": {
     "languageId": "plaintext"
    }
   },
   "outputs": [],
   "source": [
    "from enum imoprt Enum"
   ]
  },
  {
   "cell_type": "code",
   "execution_count": null,
   "metadata": {
    "vscode": {
     "languageId": "plaintext"
    }
   },
   "outputs": [],
   "source": [
    "class Menu(Enum):\n",
    "    ADD = 1\n",
    "    REMOVE = 2\n",
    "    CHECK = 3\n",
    "    ORDER = 4\n",
    "    END = 5"
   ]
  },
  {
   "cell_type": "code",
   "execution_count": null,
   "metadata": {
    "vscode": {
     "languageId": "plaintext"
    }
   },
   "outputs": [],
   "source": [
    "# Main function\n",
    "def main():\n",
    "    item_list = ItemList()\n",
    "    while True:\n",
    "        select()\n",
    "        choice = int(input(\"선택: \"))\n",
    "        print(\"\\n\\n\")\n",
    "\n",
    "        if choice == Menu.ADD.value:\n",
    "            add_menu(item_list)\n",
    "            print(\"\\n\\n\")\n",
    "        elif choice == Menu.REMOVE.value:\n",
    "            remove_menu(item_list)\n",
    "            print(\"\\n\\n\")\n",
    "        elif choice == Menu.CHECK.value:\n",
    "            check_menu(item_list)\n",
    "            print(\"\\n\\n\")\n",
    "        elif choice == Menu.ORDER.value:\n",
    "            if order(item_list):\n",
    "                print(\"주문 완료. 프로그램을 종료합니다.\")\n",
    "                break\n",
    "            else:\n",
    "                print(\"주문 보류!\")\n",
    "                print(\"\\n\\n\")\n",
    "        elif choice == Menu.END.value:\n",
    "            print(\"프로그램을 종료합니다\")\n",
    "            break\n",
    "        else:\n",
    "            print(\"잘못된 입력입니다. 동작을 취소합니다.\")\n",
    "            break\n",
    "\n",
    "if __name__ == \"__main__\":\n",
    "    main()"
   ]
  }
 ],
 "metadata": {
  "language_info": {
   "name": "python"
  }
 },
 "nbformat": 4,
 "nbformat_minor": 2
}
